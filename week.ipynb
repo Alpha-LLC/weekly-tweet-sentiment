{
 "cells": [
  {
   "cell_type": "code",
   "execution_count": 1,
   "metadata": {},
   "outputs": [],
   "source": [
    "import pandas as pd\n",
    "import json\n",
    "import requests\n",
    "import ast\n",
    "import yaml"
   ]
  },
  {
   "cell_type": "code",
   "execution_count": 30,
   "metadata": {},
   "outputs": [],
   "source": [
    "def create_twitter_url():\n",
    "    handle = \"jessicagarson\"\n",
    "    max_results = 100\n",
    "    mrf = \"max_results={}\".format(max_results)\n",
    "    q = \"query=from:{}\".format(handle)\n",
    "    url = \"https://api.twitter.com/labs/2/tweets/search?{}&{}\".format(mrf, q)\n",
    "    return url"
   ]
  },
  {
   "cell_type": "code",
   "execution_count": 31,
   "metadata": {},
   "outputs": [
    {
     "name": "stdout",
     "output_type": "stream",
     "text": [
      "https://api.twitter.com/labs/2/tweets/search?max_results=100&query=from:jessicagarson\n"
     ]
    }
   ],
   "source": [
    "url = create_twitter_url()\n",
    "print(url)"
   ]
  },
  {
   "cell_type": "code",
   "execution_count": 32,
   "metadata": {},
   "outputs": [],
   "source": [
    "def process_yaml():\n",
    "    with open(\"config.yaml\") as file:\n",
    "        return yaml.safe_load(file)"
   ]
  },
  {
   "cell_type": "code",
   "execution_count": 33,
   "metadata": {},
   "outputs": [],
   "source": [
    "data = process_yaml()"
   ]
  },
  {
   "cell_type": "code",
   "execution_count": 34,
   "metadata": {},
   "outputs": [],
   "source": [
    "def create_bearer_token(data):\n",
    "    return data[\"search_tweets_api\"][\"bearer_token\"]"
   ]
  },
  {
   "cell_type": "code",
   "execution_count": 35,
   "metadata": {},
   "outputs": [],
   "source": [
    "bearer_token = create_bearer_token(data)"
   ]
  },
  {
   "cell_type": "code",
   "execution_count": 37,
   "metadata": {},
   "outputs": [],
   "source": [
    "def twitter_auth_and_connect(bearer_token, url):\n",
    "    headers = {\"Authorization\": \"Bearer {}\".format(bearer_token)}\n",
    "    response = requests.request(\"GET\", url, headers=headers)\n",
    "    return response.json()"
   ]
  },
  {
   "cell_type": "code",
   "execution_count": 39,
   "metadata": {},
   "outputs": [
    {
     "name": "stdout",
     "output_type": "stream",
     "text": [
      "{'data': [{'id': '1265491805296119810', 'text': '@replylord What are goth roller skates?'}, {'id': '1265491691731116037', 'text': '@diskmem What are our stuffed baby Luigis doing when we aren’t looking.'}, {'id': '1265359178920534017', 'text': '@diskmem My favorite shirt🕵️\\u200d♀️'}, {'id': '1265335302543101952', 'text': 'All of you complaining about cutting your own hair clearly never paid hundreds of dollars for a haircut reminiscent of the cuts you accidentally gave yourself in middle school.'}, {'id': '1265136167378399232', 'text': '@diskmem https://t.co/G0ChSIYlUD'}, {'id': '1264750444510920705', 'text': 'RT @seanmcque_n: It’s the golden age of bike riding in New York City'}, {'id': '1264410342194581506', 'text': '@armcannon We should stream / live preform together at another thing sometime soon'}, {'id': '1264249738951569410', 'text': 'We’re (@CharStiles and I) planning an Algorave in Minecraft. This is being put on by @livecodenyc and @wondervillenyc. Fill out this form if you are interested in making music or visuals with us. https://t.co/bcd6FaO1GG'}, {'id': '1264023305188773888', 'text': 'RT @omnikrll: carly rae jepsen'}, {'id': '1263952732785958914', 'text': '@RedThunderAudio @omnikrll @carlyraejepsen I know!'}, {'id': '1263950822574100481', 'text': '@omnikrll @carlyraejepsen Same'}, {'id': '1263948281790566402', 'text': '@omnikrll I listened to the new @carlyraejepsen album yesterday and all I could think about is how I wanted a detailed review of the album song by song by you.'}, {'id': '1263944783648743426', 'text': '@diskmem Variable man!'}, {'id': '1263907060300816390', 'text': '@replylord Square pretzels are pretty rad.'}, {'id': '1263691672396890113', 'text': 'Take me back to last summer where I could make music under a satellite at Wave Farm’s beautiful space. Thanks @free103point9 for hosting on a me twice last summer. https://t.co/iCwsi3NYyK'}, {'id': '1263684215243235328', 'text': '@diskmem A floppy fish 🐠'}], 'meta': {'newest_id': '1265491805296119810', 'oldest_id': '1263684215243235328', 'result_count': 16}}\n"
     ]
    }
   ],
   "source": [
    "res_json = twitter_auth_and_connect(bearer_token, url)\n",
    "print(res_json)"
   ]
  },
  {
   "cell_type": "code",
   "execution_count": 40,
   "metadata": {},
   "outputs": [],
   "source": [
    "def lang_data_shape(res_json):\n",
    "    data_only = res_json[\"data\"]\n",
    "    doc_start = '\"documents\": {}'.format(data_only)\n",
    "    str_json = \"{\" + doc_start + \"}\"\n",
    "    dump_doc = json.dumps(str_json)\n",
    "    doc = json.loads(dump_doc)\n",
    "    return ast.literal_eval(doc)"
   ]
  },
  {
   "cell_type": "code",
   "execution_count": 41,
   "metadata": {},
   "outputs": [
    {
     "name": "stdout",
     "output_type": "stream",
     "text": [
      "{'documents': [{'id': '1265491805296119810', 'text': '@replylord What are goth roller skates?'}, {'id': '1265491691731116037', 'text': '@diskmem What are our stuffed baby Luigis doing when we aren’t looking.'}, {'id': '1265359178920534017', 'text': '@diskmem My favorite shirt🕵️\\u200d♀️'}, {'id': '1265335302543101952', 'text': 'All of you complaining about cutting your own hair clearly never paid hundreds of dollars for a haircut reminiscent of the cuts you accidentally gave yourself in middle school.'}, {'id': '1265136167378399232', 'text': '@diskmem https://t.co/G0ChSIYlUD'}, {'id': '1264750444510920705', 'text': 'RT @seanmcque_n: It’s the golden age of bike riding in New York City'}, {'id': '1264410342194581506', 'text': '@armcannon We should stream / live preform together at another thing sometime soon'}, {'id': '1264249738951569410', 'text': 'We’re (@CharStiles and I) planning an Algorave in Minecraft. This is being put on by @livecodenyc and @wondervillenyc. Fill out this form if you are interested in making music or visuals with us. https://t.co/bcd6FaO1GG'}, {'id': '1264023305188773888', 'text': 'RT @omnikrll: carly rae jepsen'}, {'id': '1263952732785958914', 'text': '@RedThunderAudio @omnikrll @carlyraejepsen I know!'}, {'id': '1263950822574100481', 'text': '@omnikrll @carlyraejepsen Same'}, {'id': '1263948281790566402', 'text': '@omnikrll I listened to the new @carlyraejepsen album yesterday and all I could think about is how I wanted a detailed review of the album song by song by you.'}, {'id': '1263944783648743426', 'text': '@diskmem Variable man!'}, {'id': '1263907060300816390', 'text': '@replylord Square pretzels are pretty rad.'}, {'id': '1263691672396890113', 'text': 'Take me back to last summer where I could make music under a satellite at Wave Farm’s beautiful space. Thanks @free103point9 for hosting on a me twice last summer. https://t.co/iCwsi3NYyK'}, {'id': '1263684215243235328', 'text': '@diskmem A floppy fish 🐠'}]}\n"
     ]
    }
   ],
   "source": [
    "documents = lang_data_shape(res_json)\n",
    "print(documents)"
   ]
  },
  {
   "cell_type": "code",
   "execution_count": 42,
   "metadata": {},
   "outputs": [],
   "source": [
    "def connect_to_azure(data):\n",
    "    azure_url = \"https://week.cognitiveservices.azure.com/\"\n",
    "    language_api_url = \"{}text/analytics/v2.1/languages\".format(azure_url)\n",
    "    sentiment_url = \"{}text/analytics/v2.1/sentiment\".format(azure_url)\n",
    "    subscription_key = data[\"azure\"][\"subscription_key\"]\n",
    "    return language_api_url, sentiment_url, subscription_key"
   ]
  },
  {
   "cell_type": "code",
   "execution_count": 43,
   "metadata": {},
   "outputs": [],
   "source": [
    "language_api_url, sentiment_url, subscription_key = connect_to_azure(data)"
   ]
  },
  {
   "cell_type": "code",
   "execution_count": 46,
   "metadata": {},
   "outputs": [],
   "source": [
    "def azure_header(subscription_key):\n",
    "    return {\"Ocp-Apim-Subscription-Key\": subscription_key}"
   ]
  },
  {
   "cell_type": "code",
   "execution_count": 47,
   "metadata": {},
   "outputs": [],
   "source": [
    "headers = azure_header(subscription_key)"
   ]
  },
  {
   "cell_type": "code",
   "execution_count": 49,
   "metadata": {},
   "outputs": [],
   "source": [
    "def generate_languages(headers, language_api_url, documents):\n",
    "    response = requests.post(language_api_url, headers=headers, json=documents)\n",
    "    return response.json()"
   ]
  },
  {
   "cell_type": "code",
   "execution_count": 50,
   "metadata": {},
   "outputs": [
    {
     "name": "stdout",
     "output_type": "stream",
     "text": [
      "{'documents': [{'id': '1265491805296119810', 'detectedLanguages': [{'name': 'English', 'iso6391Name': 'en', 'score': 1.0}]}, {'id': '1265491691731116037', 'detectedLanguages': [{'name': 'English', 'iso6391Name': 'en', 'score': 1.0}]}, {'id': '1265359178920534017', 'detectedLanguages': [{'name': 'English', 'iso6391Name': 'en', 'score': 1.0}]}, {'id': '1265335302543101952', 'detectedLanguages': [{'name': 'English', 'iso6391Name': 'en', 'score': 1.0}]}, {'id': '1265136167378399232', 'detectedLanguages': [{'name': 'English', 'iso6391Name': 'en', 'score': 1.0}]}, {'id': '1264750444510920705', 'detectedLanguages': [{'name': 'English', 'iso6391Name': 'en', 'score': 1.0}]}, {'id': '1264410342194581506', 'detectedLanguages': [{'name': 'English', 'iso6391Name': 'en', 'score': 1.0}]}, {'id': '1264249738951569410', 'detectedLanguages': [{'name': 'English', 'iso6391Name': 'en', 'score': 1.0}]}, {'id': '1264023305188773888', 'detectedLanguages': [{'name': 'English', 'iso6391Name': 'en', 'score': 1.0}]}, {'id': '1263952732785958914', 'detectedLanguages': [{'name': 'English', 'iso6391Name': 'en', 'score': 1.0}]}, {'id': '1263950822574100481', 'detectedLanguages': [{'name': 'English', 'iso6391Name': 'en', 'score': 1.0}]}, {'id': '1263948281790566402', 'detectedLanguages': [{'name': 'English', 'iso6391Name': 'en', 'score': 1.0}]}, {'id': '1263944783648743426', 'detectedLanguages': [{'name': 'English', 'iso6391Name': 'en', 'score': 1.0}]}, {'id': '1263907060300816390', 'detectedLanguages': [{'name': 'English', 'iso6391Name': 'en', 'score': 1.0}]}, {'id': '1263691672396890113', 'detectedLanguages': [{'name': 'English', 'iso6391Name': 'en', 'score': 1.0}]}, {'id': '1263684215243235328', 'detectedLanguages': [{'name': 'English', 'iso6391Name': 'en', 'score': 1.0}]}], 'errors': []}\n"
     ]
    }
   ],
   "source": [
    "with_languages = generate_languages(headers, language_api_url, documents)\n",
    "print(with_languages)"
   ]
  },
  {
   "cell_type": "code",
   "execution_count": 51,
   "metadata": {},
   "outputs": [],
   "source": [
    "def combine_lang_data(documents, with_languages):\n",
    "    langs = pd.DataFrame(with_languages[\"documents\"])\n",
    "    lang_iso = [x.get(\"iso6391Name\")\n",
    "                for d in langs.detectedLanguages if d for x in d]\n",
    "    data_only = documents[\"documents\"]\n",
    "    tweet_data = pd.DataFrame(data_only)\n",
    "    tweet_data.insert(2, \"language\", lang_iso, True)\n",
    "    json_lines = tweet_data.to_json(orient=\"records\")\n",
    "    return json_lines"
   ]
  },
  {
   "cell_type": "code",
   "execution_count": 53,
   "metadata": {},
   "outputs": [
    {
     "name": "stdout",
     "output_type": "stream",
     "text": [
      "[{\"id\":\"1265491805296119810\",\"text\":\"@replylord What are goth roller skates?\",\"language\":\"en\"},{\"id\":\"1265491691731116037\",\"text\":\"@diskmem What are our stuffed baby Luigis doing when we aren\\u2019t looking.\",\"language\":\"en\"},{\"id\":\"1265359178920534017\",\"text\":\"@diskmem My favorite shirt\\ud83d\\udd75\\ufe0f\\u200d\\u2640\\ufe0f\",\"language\":\"en\"},{\"id\":\"1265335302543101952\",\"text\":\"All of you complaining about cutting your own hair clearly never paid hundreds of dollars for a haircut reminiscent of the cuts you accidentally gave yourself in middle school.\",\"language\":\"en\"},{\"id\":\"1265136167378399232\",\"text\":\"@diskmem https:\\/\\/t.co\\/G0ChSIYlUD\",\"language\":\"en\"},{\"id\":\"1264750444510920705\",\"text\":\"RT @seanmcque_n: It\\u2019s the golden age of bike riding in New York City\",\"language\":\"en\"},{\"id\":\"1264410342194581506\",\"text\":\"@armcannon We should stream \\/ live preform together at another thing sometime soon\",\"language\":\"en\"},{\"id\":\"1264249738951569410\",\"text\":\"We\\u2019re (@CharStiles and I) planning an Algorave in Minecraft. This is being put on by @livecodenyc and @wondervillenyc. Fill out this form if you are interested in making music or visuals with us. https:\\/\\/t.co\\/bcd6FaO1GG\",\"language\":\"en\"},{\"id\":\"1264023305188773888\",\"text\":\"RT @omnikrll: carly rae jepsen\",\"language\":\"en\"},{\"id\":\"1263952732785958914\",\"text\":\"@RedThunderAudio @omnikrll @carlyraejepsen I know!\",\"language\":\"en\"},{\"id\":\"1263950822574100481\",\"text\":\"@omnikrll @carlyraejepsen Same\",\"language\":\"en\"},{\"id\":\"1263948281790566402\",\"text\":\"@omnikrll I listened to the new @carlyraejepsen album yesterday and all I could think about is how I wanted a detailed review of the album song by song by you.\",\"language\":\"en\"},{\"id\":\"1263944783648743426\",\"text\":\"@diskmem Variable man!\",\"language\":\"en\"},{\"id\":\"1263907060300816390\",\"text\":\"@replylord Square pretzels are pretty rad.\",\"language\":\"en\"},{\"id\":\"1263691672396890113\",\"text\":\"Take me back to last summer where I could make music under a satellite at Wave Farm\\u2019s beautiful space. Thanks @free103point9 for hosting on a me twice last summer. https:\\/\\/t.co\\/iCwsi3NYyK\",\"language\":\"en\"},{\"id\":\"1263684215243235328\",\"text\":\"@diskmem A floppy fish \\ud83d\\udc20\",\"language\":\"en\"}]\n"
     ]
    }
   ],
   "source": [
    "json_lines = combine_lang_data(documents, with_languages)\n",
    "print(json_lines)"
   ]
  },
  {
   "cell_type": "code",
   "execution_count": 54,
   "metadata": {},
   "outputs": [],
   "source": [
    "def add_document_format(json_lines):\n",
    "    docu_format = '\"' + \"documents\" + '\"'\n",
    "    json_docu_format = \"{}:{}\".format(docu_format, json_lines)\n",
    "    docu_align = \"{\" + json_docu_format + \"}\"\n",
    "    jd_align = json.dumps(docu_align)\n",
    "    jl_align = json.loads(jd_align)\n",
    "    return ast.literal_eval(jl_align)"
   ]
  },
  {
   "cell_type": "code",
   "execution_count": 55,
   "metadata": {},
   "outputs": [
    {
     "name": "stdout",
     "output_type": "stream",
     "text": [
      "{'documents': [{'id': '1265491805296119810', 'text': '@replylord What are goth roller skates?', 'language': 'en'}, {'id': '1265491691731116037', 'text': '@diskmem What are our stuffed baby Luigis doing when we aren’t looking.', 'language': 'en'}, {'id': '1265359178920534017', 'text': '@diskmem My favorite shirt\\ud83d\\udd75️\\u200d♀️', 'language': 'en'}, {'id': '1265335302543101952', 'text': 'All of you complaining about cutting your own hair clearly never paid hundreds of dollars for a haircut reminiscent of the cuts you accidentally gave yourself in middle school.', 'language': 'en'}, {'id': '1265136167378399232', 'text': '@diskmem https:\\\\/\\\\/t.co\\\\/G0ChSIYlUD', 'language': 'en'}, {'id': '1264750444510920705', 'text': 'RT @seanmcque_n: It’s the golden age of bike riding in New York City', 'language': 'en'}, {'id': '1264410342194581506', 'text': '@armcannon We should stream \\\\/ live preform together at another thing sometime soon', 'language': 'en'}, {'id': '1264249738951569410', 'text': 'We’re (@CharStiles and I) planning an Algorave in Minecraft. This is being put on by @livecodenyc and @wondervillenyc. Fill out this form if you are interested in making music or visuals with us. https:\\\\/\\\\/t.co\\\\/bcd6FaO1GG', 'language': 'en'}, {'id': '1264023305188773888', 'text': 'RT @omnikrll: carly rae jepsen', 'language': 'en'}, {'id': '1263952732785958914', 'text': '@RedThunderAudio @omnikrll @carlyraejepsen I know!', 'language': 'en'}, {'id': '1263950822574100481', 'text': '@omnikrll @carlyraejepsen Same', 'language': 'en'}, {'id': '1263948281790566402', 'text': '@omnikrll I listened to the new @carlyraejepsen album yesterday and all I could think about is how I wanted a detailed review of the album song by song by you.', 'language': 'en'}, {'id': '1263944783648743426', 'text': '@diskmem Variable man!', 'language': 'en'}, {'id': '1263907060300816390', 'text': '@replylord Square pretzels are pretty rad.', 'language': 'en'}, {'id': '1263691672396890113', 'text': 'Take me back to last summer where I could make music under a satellite at Wave Farm’s beautiful space. Thanks @free103point9 for hosting on a me twice last summer. https:\\\\/\\\\/t.co\\\\/iCwsi3NYyK', 'language': 'en'}, {'id': '1263684215243235328', 'text': '@diskmem A floppy fish \\ud83d\\udc20', 'language': 'en'}]}\n"
     ]
    }
   ],
   "source": [
    "document_format = add_document_format(json_lines)\n",
    "print(document_format)"
   ]
  },
  {
   "cell_type": "code",
   "execution_count": 56,
   "metadata": {},
   "outputs": [],
   "source": [
    "def sentiment_scores(headers, sentiment_url, document_format):\n",
    "    response = requests.post(\n",
    "        sentiment_url, headers=headers, json=document_format)\n",
    "    return response.json()"
   ]
  },
  {
   "cell_type": "code",
   "execution_count": 57,
   "metadata": {},
   "outputs": [
    {
     "name": "stdout",
     "output_type": "stream",
     "text": [
      "{'documents': [{'id': '1265491805296119810', 'score': 0.5}, {'id': '1265491691731116037', 'score': 0.286409854888916}, {'id': '1265359178920534017', 'score': 0.9353771209716797}, {'id': '1265335302543101952', 'score': 0.12720105051994324}, {'id': '1265136167378399232', 'score': 0.7015109062194824}, {'id': '1264750444510920705', 'score': 0.9699492454528809}, {'id': '1264410342194581506', 'score': 0.8423745632171631}, {'id': '1264249738951569410', 'score': 0.7769913673400879}, {'id': '1264023305188773888', 'score': 0.7277792096138}, {'id': '1263952732785958914', 'score': 0.1218404471874237}, {'id': '1263950822574100481', 'score': 0.706977128982544}, {'id': '1263948281790566402', 'score': 0.9295811653137207}, {'id': '1263944783648743426', 'score': 0.5}, {'id': '1263907060300816390', 'score': 0.863063633441925}, {'id': '1263691672396890113', 'score': 0.8640784025192261}, {'id': '1263684215243235328', 'score': 0.5}], 'errors': []}\n"
     ]
    }
   ],
   "source": [
    "sentiments = sentiment_scores(headers, sentiment_url, document_format)\n",
    "print(sentiments)"
   ]
  },
  {
   "cell_type": "code",
   "execution_count": 65,
   "metadata": {},
   "outputs": [],
   "source": [
    "def mean_score(sentiments):\n",
    "    sentiment_df = pd.DataFrame(sentiments[\"documents\"])\n",
    "    return sentiment_df[\"score\"].mean()"
   ]
  },
  {
   "cell_type": "code",
   "execution_count": 66,
   "metadata": {},
   "outputs": [
    {
     "name": "stdout",
     "output_type": "stream",
     "text": [
      "0.6470708809792995\n"
     ]
    }
   ],
   "source": [
    "week_score = mean_score(sentiments)\n",
    "print(week_score)"
   ]
  },
  {
   "cell_type": "code",
   "execution_count": 67,
   "metadata": {},
   "outputs": [],
   "source": [
    "def week_logic(week_score):\n",
    "    if week_score > 0.75 or week_score == 0.75:\n",
    "        print(\"You had a positve week\")\n",
    "    elif week_score > 0.45 or or week_score == 0.45:\n",
    "        print(\"You had a neautral week\")\n",
    "    else:\n",
    "        print(\"You had a negative week, I hope it gets better\")"
   ]
  },
  {
   "cell_type": "code",
   "execution_count": 69,
   "metadata": {},
   "outputs": [
    {
     "name": "stdout",
     "output_type": "stream",
     "text": [
      "You had a neautral week\n"
     ]
    }
   ],
   "source": [
    "week_logic(week_score)"
   ]
  },
  {
   "cell_type": "code",
   "execution_count": null,
   "metadata": {},
   "outputs": [],
   "source": []
  }
 ],
 "metadata": {
  "kernelspec": {
   "display_name": "Python 3",
   "language": "python",
   "name": "python3"
  },
  "language_info": {
   "codemirror_mode": {
    "name": "ipython",
    "version": 3
   },
   "file_extension": ".py",
   "mimetype": "text/x-python",
   "name": "python",
   "nbconvert_exporter": "python",
   "pygments_lexer": "ipython3",
   "version": "3.7.3"
  }
 },
 "nbformat": 4,
 "nbformat_minor": 4
}
