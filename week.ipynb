{
 "cells": [
  {
   "cell_type": "code",
   "execution_count": 1,
   "metadata": {},
   "outputs": [],
   "source": [
    "import pandas as pd\n",
    "import json\n",
    "import requests\n",
    "import ast\n",
    "import yaml"
   ]
  },
  {
   "cell_type": "code",
   "execution_count": 2,
   "metadata": {},
   "outputs": [],
   "source": [
    "def create_twitter_url():\n",
    "    handle = \"jessicagarson\"\n",
    "    max_results = 100\n",
    "    mrf = \"max_results={}\".format(max_results)\n",
    "    q = \"query=from:{}\".format(handle)\n",
    "    url = \"https://api.twitter.com/labs/2/tweets/search?{}&{}\".format(mrf, q)\n",
    "    return url"
   ]
  },
  {
   "cell_type": "code",
   "execution_count": 3,
   "metadata": {},
   "outputs": [
    {
     "name": "stdout",
     "output_type": "stream",
     "text": [
      "https://api.twitter.com/labs/2/tweets/search?max_results=100&query=from:jessicagarson\n"
     ]
    }
   ],
   "source": [
    "url = create_twitter_url()\n",
    "print(url)"
   ]
  },
  {
   "cell_type": "code",
   "execution_count": 4,
   "metadata": {},
   "outputs": [],
   "source": [
    "def process_yaml():\n",
    "    with open(\"config.yaml\") as file:\n",
    "        return yaml.safe_load(file)"
   ]
  },
  {
   "cell_type": "code",
   "execution_count": 5,
   "metadata": {},
   "outputs": [],
   "source": [
    "data = process_yaml()"
   ]
  },
  {
   "cell_type": "code",
   "execution_count": 6,
   "metadata": {},
   "outputs": [],
   "source": [
    "def create_bearer_token(data):\n",
    "    return data[\"search_tweets_api\"][\"bearer_token\"]"
   ]
  },
  {
   "cell_type": "code",
   "execution_count": 7,
   "metadata": {},
   "outputs": [],
   "source": [
    "bearer_token = create_bearer_token(data)"
   ]
  },
  {
   "cell_type": "code",
   "execution_count": 8,
   "metadata": {},
   "outputs": [],
   "source": [
    "def twitter_auth_and_connect(bearer_token, url):\n",
    "    headers = {\"Authorization\": \"Bearer {}\".format(bearer_token)}\n",
    "    response = requests.request(\"GET\", url, headers=headers)\n",
    "    return response.json()"
   ]
  },
  {
   "cell_type": "code",
   "execution_count": 9,
   "metadata": {},
   "outputs": [
    {
     "name": "stdout",
     "output_type": "stream",
     "text": [
      "{'data': [{'id': '1272881032308629506', 'text': '@nomadaisy @kndl I just want to do deals with you'}, {'id': '1272880943687258112', 'text': '@nomadaisy @kndl I live too far away to hang responsibly with y’all 😬😭'}, {'id': '1272711045606408192', 'text': '@Babycastles https://t.co/Yfj8SJAnpG'}, {'id': '1272390182231330816', 'text': '@replylord Haha, I broke a glass in your honor today and all so I think I do read your Tweets'}, {'id': '1271810907274915840', 'text': '@replylord I like that I’m the only like here.'}, {'id': '1271435152183476225', 'text': '@Arfness @ChicagoPython @codewithbri @WeCodeDreams @agfors The video seems to be available https://t.co/GojUGdulkP'}, {'id': '1271111488024064001', 'text': 'RT @TwitterDev: Tune in tonight and watch as @jessicagarson takes us through running your favorite Python package in R. 🍿\\n\\nLearn how to use…'}, {'id': '1270794941892046848', 'text': 'RT @ChicagoPython: Chicago Python will be live-streaming tmrw night!\\n\\nOur talks:\\n- How to run your favorite Python package in R by @jessica…'}, {'id': '1270485552488427521', 'text': \"Speaking virtually at @ChicagoPython's __main__ meeting on Thursday night. I'll be showing how to run your favorite Python package in R. https://t.co/TnqgO80I3t\"}], 'meta': {'newest_id': '1272881032308629506', 'oldest_id': '1270485552488427521', 'result_count': 9}}\n"
     ]
    }
   ],
   "source": [
    "res_json = twitter_auth_and_connect(bearer_token, url)\n",
    "print(res_json)\n",
    "if res_json == {'meta': {'result_count': 0}}:\n",
    "    print(\"Check to see if the Twitter handle has Tweeted in the last 7 days\")"
   ]
  },
  {
   "cell_type": "code",
   "execution_count": 10,
   "metadata": {},
   "outputs": [],
   "source": [
    "def lang_data_shape(res_json):\n",
    "    data_only = res_json[\"data\"]\n",
    "    doc_start = '\"documents\": {}'.format(data_only)\n",
    "    str_json = \"{\" + doc_start + \"}\"\n",
    "    dump_doc = json.dumps(str_json)\n",
    "    doc = json.loads(dump_doc)\n",
    "    return ast.literal_eval(doc)"
   ]
  },
  {
   "cell_type": "code",
   "execution_count": 11,
   "metadata": {},
   "outputs": [
    {
     "name": "stdout",
     "output_type": "stream",
     "text": [
      "{'documents': [{'id': '1272881032308629506', 'text': '@nomadaisy @kndl I just want to do deals with you'}, {'id': '1272880943687258112', 'text': '@nomadaisy @kndl I live too far away to hang responsibly with y’all 😬😭'}, {'id': '1272711045606408192', 'text': '@Babycastles https://t.co/Yfj8SJAnpG'}, {'id': '1272390182231330816', 'text': '@replylord Haha, I broke a glass in your honor today and all so I think I do read your Tweets'}, {'id': '1271810907274915840', 'text': '@replylord I like that I’m the only like here.'}, {'id': '1271435152183476225', 'text': '@Arfness @ChicagoPython @codewithbri @WeCodeDreams @agfors The video seems to be available https://t.co/GojUGdulkP'}, {'id': '1271111488024064001', 'text': 'RT @TwitterDev: Tune in tonight and watch as @jessicagarson takes us through running your favorite Python package in R. 🍿\\n\\nLearn how to use…'}, {'id': '1270794941892046848', 'text': 'RT @ChicagoPython: Chicago Python will be live-streaming tmrw night!\\n\\nOur talks:\\n- How to run your favorite Python package in R by @jessica…'}, {'id': '1270485552488427521', 'text': \"Speaking virtually at @ChicagoPython's __main__ meeting on Thursday night. I'll be showing how to run your favorite Python package in R. https://t.co/TnqgO80I3t\"}]}\n"
     ]
    }
   ],
   "source": [
    "documents = lang_data_shape(res_json)\n",
    "print(documents)"
   ]
  },
  {
   "cell_type": "code",
   "execution_count": 12,
   "metadata": {},
   "outputs": [],
   "source": [
    "def connect_to_azure(data):\n",
    "    azure_url = \"https://week.cognitiveservices.azure.com/\"\n",
    "    language_api_url = \"{}text/analytics/v2.1/languages\".format(azure_url)\n",
    "    sentiment_url = \"{}text/analytics/v2.1/sentiment\".format(azure_url)\n",
    "    subscription_key = data[\"azure\"][\"subscription_key\"]\n",
    "    return language_api_url, sentiment_url, subscription_key"
   ]
  },
  {
   "cell_type": "code",
   "execution_count": 13,
   "metadata": {},
   "outputs": [],
   "source": [
    "language_api_url, sentiment_url, subscription_key = connect_to_azure(data)"
   ]
  },
  {
   "cell_type": "code",
   "execution_count": 14,
   "metadata": {},
   "outputs": [],
   "source": [
    "def azure_header(subscription_key):\n",
    "    return {\"Ocp-Apim-Subscription-Key\": subscription_key}"
   ]
  },
  {
   "cell_type": "code",
   "execution_count": 15,
   "metadata": {},
   "outputs": [],
   "source": [
    "headers = azure_header(subscription_key)"
   ]
  },
  {
   "cell_type": "code",
   "execution_count": 16,
   "metadata": {},
   "outputs": [],
   "source": [
    "def generate_languages(headers, language_api_url, documents):\n",
    "    response = requests.post(language_api_url, headers=headers, json=documents)\n",
    "    return response.json()"
   ]
  },
  {
   "cell_type": "code",
   "execution_count": 17,
   "metadata": {},
   "outputs": [
    {
     "name": "stdout",
     "output_type": "stream",
     "text": [
      "{'documents': [{'id': '1272881032308629506', 'detectedLanguages': [{'name': 'English', 'iso6391Name': 'en', 'score': 1.0}]}, {'id': '1272880943687258112', 'detectedLanguages': [{'name': 'English', 'iso6391Name': 'en', 'score': 1.0}]}, {'id': '1272711045606408192', 'detectedLanguages': [{'name': 'English', 'iso6391Name': 'en', 'score': 1.0}]}, {'id': '1272390182231330816', 'detectedLanguages': [{'name': 'English', 'iso6391Name': 'en', 'score': 1.0}]}, {'id': '1271810907274915840', 'detectedLanguages': [{'name': 'English', 'iso6391Name': 'en', 'score': 1.0}]}, {'id': '1271435152183476225', 'detectedLanguages': [{'name': 'English', 'iso6391Name': 'en', 'score': 1.0}]}, {'id': '1271111488024064001', 'detectedLanguages': [{'name': 'English', 'iso6391Name': 'en', 'score': 1.0}]}, {'id': '1270794941892046848', 'detectedLanguages': [{'name': 'English', 'iso6391Name': 'en', 'score': 1.0}]}, {'id': '1270485552488427521', 'detectedLanguages': [{'name': 'English', 'iso6391Name': 'en', 'score': 1.0}]}], 'errors': []}\n"
     ]
    }
   ],
   "source": [
    "with_languages = generate_languages(headers, language_api_url, documents)\n",
    "print(with_languages)"
   ]
  },
  {
   "cell_type": "code",
   "execution_count": 18,
   "metadata": {},
   "outputs": [],
   "source": [
    "def combine_lang_data(documents, with_languages):\n",
    "    langs = pd.DataFrame(with_languages[\"documents\"])\n",
    "    lang_iso = [x.get(\"iso6391Name\")\n",
    "                for d in langs.detectedLanguages if d for x in d]\n",
    "    data_only = documents[\"documents\"]\n",
    "    tweet_data = pd.DataFrame(data_only)\n",
    "    tweet_data.insert(2, \"language\", lang_iso, True)\n",
    "    json_lines = tweet_data.to_json(orient=\"records\")\n",
    "    return json_lines"
   ]
  },
  {
   "cell_type": "code",
   "execution_count": 19,
   "metadata": {},
   "outputs": [
    {
     "name": "stdout",
     "output_type": "stream",
     "text": [
      "[{\"id\":\"1272881032308629506\",\"text\":\"@nomadaisy @kndl I just want to do deals with you\",\"language\":\"en\"},{\"id\":\"1272880943687258112\",\"text\":\"@nomadaisy @kndl I live too far away to hang responsibly with y\\u2019all \\ud83d\\ude2c\\ud83d\\ude2d\",\"language\":\"en\"},{\"id\":\"1272711045606408192\",\"text\":\"@Babycastles https:\\/\\/t.co\\/Yfj8SJAnpG\",\"language\":\"en\"},{\"id\":\"1272390182231330816\",\"text\":\"@replylord Haha, I broke a glass in your honor today and all so I think I do read your Tweets\",\"language\":\"en\"},{\"id\":\"1271810907274915840\",\"text\":\"@replylord I like that I\\u2019m the only like here.\",\"language\":\"en\"},{\"id\":\"1271435152183476225\",\"text\":\"@Arfness @ChicagoPython @codewithbri @WeCodeDreams @agfors The video seems to be available https:\\/\\/t.co\\/GojUGdulkP\",\"language\":\"en\"},{\"id\":\"1271111488024064001\",\"text\":\"RT @TwitterDev: Tune in tonight and watch as @jessicagarson takes us through running your favorite Python package in R. \\ud83c\\udf7f\\n\\nLearn how to use\\u2026\",\"language\":\"en\"},{\"id\":\"1270794941892046848\",\"text\":\"RT @ChicagoPython: Chicago Python will be live-streaming tmrw night!\\n\\nOur talks:\\n- How to run your favorite Python package in R by @jessica\\u2026\",\"language\":\"en\"},{\"id\":\"1270485552488427521\",\"text\":\"Speaking virtually at @ChicagoPython's __main__ meeting on Thursday night. I'll be showing how to run your favorite Python package in R. https:\\/\\/t.co\\/TnqgO80I3t\",\"language\":\"en\"}]\n"
     ]
    }
   ],
   "source": [
    "json_lines = combine_lang_data(documents, with_languages)\n",
    "print(json_lines)"
   ]
  },
  {
   "cell_type": "code",
   "execution_count": 20,
   "metadata": {},
   "outputs": [],
   "source": [
    "def add_document_format(json_lines):\n",
    "    docu_format = '\"' + \"documents\" + '\"'\n",
    "    json_docu_format = \"{}:{}\".format(docu_format, json_lines)\n",
    "    docu_align = \"{\" + json_docu_format + \"}\"\n",
    "    jd_align = json.dumps(docu_align)\n",
    "    jl_align = json.loads(jd_align)\n",
    "    return ast.literal_eval(jl_align)"
   ]
  },
  {
   "cell_type": "code",
   "execution_count": 21,
   "metadata": {},
   "outputs": [
    {
     "name": "stdout",
     "output_type": "stream",
     "text": [
      "{'documents': [{'id': '1272881032308629506', 'text': '@nomadaisy @kndl I just want to do deals with you', 'language': 'en'}, {'id': '1272880943687258112', 'text': '@nomadaisy @kndl I live too far away to hang responsibly with y’all \\ud83d\\ude2c\\ud83d\\ude2d', 'language': 'en'}, {'id': '1272711045606408192', 'text': '@Babycastles https:\\\\/\\\\/t.co\\\\/Yfj8SJAnpG', 'language': 'en'}, {'id': '1272390182231330816', 'text': '@replylord Haha, I broke a glass in your honor today and all so I think I do read your Tweets', 'language': 'en'}, {'id': '1271810907274915840', 'text': '@replylord I like that I’m the only like here.', 'language': 'en'}, {'id': '1271435152183476225', 'text': '@Arfness @ChicagoPython @codewithbri @WeCodeDreams @agfors The video seems to be available https:\\\\/\\\\/t.co\\\\/GojUGdulkP', 'language': 'en'}, {'id': '1271111488024064001', 'text': 'RT @TwitterDev: Tune in tonight and watch as @jessicagarson takes us through running your favorite Python package in R. \\ud83c\\udf7f\\n\\nLearn how to use…', 'language': 'en'}, {'id': '1270794941892046848', 'text': 'RT @ChicagoPython: Chicago Python will be live-streaming tmrw night!\\n\\nOur talks:\\n- How to run your favorite Python package in R by @jessica…', 'language': 'en'}, {'id': '1270485552488427521', 'text': \"Speaking virtually at @ChicagoPython's __main__ meeting on Thursday night. I'll be showing how to run your favorite Python package in R. https:\\\\/\\\\/t.co\\\\/TnqgO80I3t\", 'language': 'en'}]}\n"
     ]
    }
   ],
   "source": [
    "document_format = add_document_format(json_lines)\n",
    "print(document_format)"
   ]
  },
  {
   "cell_type": "code",
   "execution_count": 22,
   "metadata": {},
   "outputs": [],
   "source": [
    "def sentiment_scores(headers, sentiment_url, document_format):\n",
    "    response = requests.post(\n",
    "        sentiment_url, headers=headers, json=document_format)\n",
    "    return response.json()"
   ]
  },
  {
   "cell_type": "code",
   "execution_count": 29,
   "metadata": {},
   "outputs": [
    {
     "name": "stdout",
     "output_type": "stream",
     "text": [
      "{'documents': [{'id': '1272881032308629506', 'score': 0.18426942825317383}, {'id': '1272880943687258112', 'score': 0.0031259357929229736}, {'id': '1272711045606408192', 'score': 0.7015109062194824}, {'id': '1272390182231330816', 'score': 0.8754926323890686}, {'id': '1271810907274915840', 'score': 0.19140595197677612}, {'id': '1271435152183476225', 'score': 0.7853382229804993}, {'id': '1271111488024064001', 'score': 0.7884223461151123}, {'id': '1270794941892046848', 'score': 0.8826596736907959}, {'id': '1270485552488427521', 'score': 0.8784275054931641}], 'errors': []}\n"
     ]
    }
   ],
   "source": [
    "sentiments = sentiment_scores(headers, sentiment_url, document_format)\n",
    "print(sentiments)"
   ]
  },
  {
   "cell_type": "code",
   "execution_count": 30,
   "metadata": {},
   "outputs": [],
   "source": [
    "def mean_score(sentiments):\n",
    "    sentiment_df = pd.DataFrame(sentiments[\"documents\"])\n",
    "    return sentiment_df[\"score\"].mean()"
   ]
  },
  {
   "cell_type": "code",
   "execution_count": 31,
   "metadata": {},
   "outputs": [
    {
     "name": "stdout",
     "output_type": "stream",
     "text": [
      "0.5878502892123328\n"
     ]
    }
   ],
   "source": [
    "week_score = mean_score(sentiments)\n",
    "print(week_score)"
   ]
  },
  {
   "cell_type": "code",
   "execution_count": 32,
   "metadata": {},
   "outputs": [],
   "source": [
    "def week_logic(week_score):\n",
    "    if week_score > 0.75 or week_score == 0.75:\n",
    "        print(\"You had a positive week\")\n",
    "    elif week_score > 0.45 or week_score == 0.45:\n",
    "        print(\"You had a neutral week\")\n",
    "    else:\n",
    "        print(\"You had a negative week, I hope it gets better\")"
   ]
  },
  {
   "cell_type": "code",
   "execution_count": 33,
   "metadata": {},
   "outputs": [
    {
     "name": "stdout",
     "output_type": "stream",
     "text": [
      "You had a neutral week\n"
     ]
    }
   ],
   "source": [
    "week_logic(week_score)"
   ]
  }
 ],
 "metadata": {
  "kernelspec": {
   "display_name": "Python 3",
   "language": "python",
   "name": "python3"
  },
  "language_info": {
   "codemirror_mode": {
    "name": "ipython",
    "version": 3
   },
   "file_extension": ".py",
   "mimetype": "text/x-python",
   "name": "python",
   "nbconvert_exporter": "python",
   "pygments_lexer": "ipython3",
   "version": "3.7.3"
  }
 },
 "nbformat": 4,
 "nbformat_minor": 4
}
